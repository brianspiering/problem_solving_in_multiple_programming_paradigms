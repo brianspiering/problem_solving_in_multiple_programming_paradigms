{
 "cells": [
  {
   "cell_type": "markdown",
   "metadata": {
    "toc": true
   },
   "source": [
    "<h1>Table of Contents<span class=\"tocSkip\"></span></h1>\n",
    "<div class=\"toc\"><ul class=\"toc-item\"><li><span><a href=\"#Who-am-I?\" data-toc-modified-id=\"Who-am-I?-1\">Who am I?</a></span></li><li><span><a href=\"#Learning-Outcomes\" data-toc-modified-id=\"Learning-Outcomes-2\">Learning Outcomes</a></span><ul class=\"toc-item\"><li><ul class=\"toc-item\"><li><span><a href=\"#By-the-end-of-this-session,-you-should-be-able-to:\" data-toc-modified-id=\"By-the-end-of-this-session,-you-should-be-able-to:-2.0.1\">By the end of this session, you should be able to:</a></span></li></ul></li></ul></li><li><span><a href=\"#What-is-a-programming-paradigm?\" data-toc-modified-id=\"What-is-a-programming-paradigm?-3\">What is a programming paradigm?</a></span></li><li><span><a href=\"#Python’s-flexibility-FTW\" data-toc-modified-id=\"Python’s-flexibility-FTW-4\">Python’s flexibility FTW</a></span></li><li><span><a href=\"#What-are-the-different-ways-to-sum-a-list-of-numbers-in-Python?\" data-toc-modified-id=\"What-are-the-different-ways-to-sum-a-list-of-numbers-in-Python?-5\">What are the different ways to sum a list of numbers in Python?</a></span></li><li><span><a href=\"#What-is-Imperative-/-Procedural-Programming?\" data-toc-modified-id=\"What-is-Imperative-/-Procedural-Programming?-6\">What is Imperative / Procedural Programming?</a></span></li><li><span><a href=\"#What's-The-Difference-Between-Imperative-and-Procedural-Programming?\" data-toc-modified-id=\"What's-The-Difference-Between-Imperative-and-Procedural-Programming?-7\">What's The Difference Between Imperative and Procedural Programming?</a></span></li><li><span><a href=\"#What-is-Recursion?\" data-toc-modified-id=\"What-is-Recursion?-8\">What is Recursion?</a></span></li><li><span><a href=\"#What-is-Functional-Programming?\" data-toc-modified-id=\"What-is-Functional-Programming?-9\">What is Functional Programming?</a></span></li><li><span><a href=\"#What-is-the-difference-between-Imperative-/-Procedural-is-vs-Functional?\" data-toc-modified-id=\"What-is-the-difference-between-Imperative-/-Procedural-is-vs-Functional?-10\">What is the difference between Imperative / Procedural is vs Functional?</a></span></li><li><span><a href=\"#Student-Activity:-Sum-a-list-Function-Many-Ways\" data-toc-modified-id=\"Student-Activity:-Sum-a-list-Function-Many-Ways-11\">Student Activity: Sum-a-list Function Many Ways</a></span></li><li><span><a href=\"#Benchmarking-different-paradigms\" data-toc-modified-id=\"Benchmarking-different-paradigms-12\">Benchmarking different paradigms</a></span></li><li><span><a href=\"#Benchmarking-vs-Big-O\" data-toc-modified-id=\"Benchmarking-vs-Big-O-13\">Benchmarking vs Big O</a></span></li><li><span><a href=\"#What-is-factorial?\" data-toc-modified-id=\"What-is-factorial?-14\">What is factorial?</a></span></li><li><span><a href=\"#What-are-different-programming-ways-to-a-calculate-factorial?\" data-toc-modified-id=\"What-are-different-programming-ways-to-a-calculate-factorial?-15\">What are different programming ways to a calculate factorial?</a></span></li><li><span><a href=\"#Student-Activity:-Factorial-Function-Many-Ways\" data-toc-modified-id=\"Student-Activity:-Factorial-Function-Many-Ways-16\">Student Activity: Factorial Function Many Ways</a></span></li><li><span><a href=\"#Student-Poll:-Which-method-is-your-favorite?-Why?\" data-toc-modified-id=\"Student-Poll:-Which-method-is-your-favorite?-Why?-17\">Student Poll: Which method is your favorite? Why?</a></span></li><li><span><a href=\"#Try-not-to-mix-match-styles\" data-toc-modified-id=\"Try-not-to-mix-match-styles-18\">Try not to mix-match styles</a></span></li><li><span><a href=\"#Summary-of-methods\" data-toc-modified-id=\"Summary-of-methods-19\">Summary of methods</a></span></li><li><span><a href=\"#Takeaways\" data-toc-modified-id=\"Takeaways-20\">Takeaways</a></span></li><li><span><a href=\"#Bonus-Material\" data-toc-modified-id=\"Bonus-Material-21\">Bonus Material</a></span></li><li><span><a href=\"#Object-oriented-programming-(OOP)-can-be-considered-to-be-paradigm\" data-toc-modified-id=\"Object-oriented-programming-(OOP)-can-be-considered-to-be-paradigm-22\">Object-oriented programming (OOP) can be considered to be paradigm</a></span></li><li><span><a href=\"#There-are-many-other-computing-paradigms\" data-toc-modified-id=\"There-are-many-other-computing-paradigms-23\">There are many other computing paradigms</a></span></li><li><span><a href=\"#Zen-of-Python\" data-toc-modified-id=\"Zen-of-Python-24\">Zen of Python</a></span></li></ul></div>"
   ]
  },
  {
   "cell_type": "markdown",
   "metadata": {},
   "source": [
    "Who am I?\n",
    "------\n",
    "\n",
    "My name is Brian Spiering.\n",
    "\n",
    "I'm a professor of Data Science at [University of San Francisco's Masters in Data Science](https://www.usfca.edu/arts-sciences/graduate-programs/data-science) program."
   ]
  },
  {
   "cell_type": "markdown",
   "metadata": {},
   "source": [
    "<center><img src=\"images/polya_quote.jpg\" width=\"75%\"/></center>"
   ]
  },
  {
   "cell_type": "markdown",
   "metadata": {},
   "source": [
    "> It is better to solve one problem five different ways, than to solve five problems one way.   \n",
    "> — George Polya"
   ]
  },
  {
   "cell_type": "markdown",
   "metadata": {},
   "source": [
    "Learning Outcomes\n",
    "-----\n",
    "\n",
    "#### By the end of this session, you should be able to:\n",
    "\n",
    "- Explain the pros and cons of common programming paradigms.\n",
    "- In each of the paradigms, write code to:\n",
    "    - Sum a list of numbers\n",
    "    - Calculate the factorial of integers"
   ]
  },
  {
   "cell_type": "markdown",
   "metadata": {},
   "source": [
    "What is a programming paradigm?\n",
    "------\n",
    "\n",
    "A style of programming, the way the code is organized. \n",
    "\n",
    "Patterns of thought and action.\n",
    "\n",
    "[Source](https://en.wikipedia.org/wiki/Programming_paradigm)"
   ]
  },
  {
   "cell_type": "markdown",
   "metadata": {},
   "source": [
    "Python’s flexibility FTW\n",
    "-----\n",
    "\n",
    "Flexibility is one of Python's many advantages. \n",
    "\n",
    "Many different programming paradigms can be used within Python."
   ]
  },
  {
   "cell_type": "markdown",
   "metadata": {
    "slideshow": {
     "slide_type": "slide"
    }
   },
   "source": [
    "What are the different ways to sum a list of numbers in Python?\n",
    "------\n",
    "\n",
    "- Built-in function\n",
    "- 3rd party functions\n",
    "- Procedural / Imperative\n",
    "    - for\n",
    "    - while\n",
    "- Recursive\n",
    "- Functional"
   ]
  },
  {
   "cell_type": "markdown",
   "metadata": {},
   "source": [
    "What is Imperative / Procedural Programming?\n",
    "-----\n",
    "\n",
    "Imperative programming paradigm that describes computation in terms of statements that change a program state.\n",
    "\n",
    "The focus is on what explicit steps the computer should take. \n",
    "\n",
    "Imperative programming is the workhorse of programming, it gets the job done.\n",
    "\n",
    "Common in: C, C++, Java, COBOL"
   ]
  },
  {
   "cell_type": "markdown",
   "metadata": {},
   "source": [
    "What's The Difference Between Imperative and Procedural Programming?\n",
    "-----\n",
    "\n",
    "For us, there is no meaning difference.\n",
    "\n",
    "If you want to geek out about programming language design, then start [here](https://softwareengineering.stackexchange.com/questions/117092/whats-the-difference-between-imperative-procedural-and-structured-programming)."
   ]
  },
  {
   "cell_type": "markdown",
   "metadata": {},
   "source": [
    "What is Recursion?\n",
    "-----\n",
    "\n",
    "A function that calls itself and each time it moves closer to the solution.\n",
    "\n",
    "A recursive function automatically manages state.\n",
    "\n",
    "Recursive functions can be hard to write (and debug). Some people think they are elegant."
   ]
  },
  {
   "cell_type": "markdown",
   "metadata": {},
   "source": [
    "What is Functional Programming?\n",
    "-------\n",
    "\n",
    "Everything is function with inputs and outputs.\n",
    "\n",
    "Any forms of state or mutable data are avoided.\n",
    "\n",
    "Functional programming lends itself well to parallel processing because there is no state to consider. \n",
    "\n",
    "Python supports only parts of functional programming\n",
    "\n",
    "Haskell is a programming language that is a __pure__ functional programming implementation."
   ]
  },
  {
   "cell_type": "markdown",
   "metadata": {},
   "source": [
    "What is the difference between Imperative / Procedural is vs Functional?\n",
    "-------\n",
    "\n",
    "Imperative / Procedural is lower-level code that lists each explicit step in order. The focus is how it is done.\n",
    "\n",
    "Functional is higher-level code that declares what should be true and delegates the implementation to functions. The focus is what is to be done."
   ]
  },
  {
   "cell_type": "markdown",
   "metadata": {},
   "source": [
    "Student Activity: Sum-a-list Function Many Ways\n",
    "-----\n",
    "\n",
    "Write a sum a list function the following ways:\n",
    "\n",
    "- Built-in function\n",
    "- 3rd party functions\n",
    "- Procedural / Imperative\n",
    "    - for\n",
    "    - while\n",
    "- Recursive\n",
    "- Functional"
   ]
  },
  {
   "cell_type": "code",
   "execution_count": 2,
   "metadata": {},
   "outputs": [],
   "source": [
    "reset -fs"
   ]
  },
  {
   "cell_type": "code",
   "execution_count": 3,
   "metadata": {},
   "outputs": [],
   "source": [
    "nums = [-1, 1, 42, 1] #=> 43"
   ]
  },
  {
   "cell_type": "code",
   "execution_count": 4,
   "metadata": {},
   "outputs": [
    {
     "data": {
      "text/plain": [
       "43"
      ]
     },
     "execution_count": 4,
     "metadata": {},
     "output_type": "execute_result"
    }
   ],
   "source": [
    "# Built-in\n",
    "sum(nums)"
   ]
  },
  {
   "cell_type": "code",
   "execution_count": 5,
   "metadata": {},
   "outputs": [
    {
     "name": "stdout",
     "output_type": "stream",
     "text": [
      "Requirement already satisfied: numpy in /Users/brian/anaconda3/lib/python3.7/site-packages (1.16.2)\r\n"
     ]
    }
   ],
   "source": [
    "# Short for numeric Python\n",
    "! pip install numpy"
   ]
  },
  {
   "cell_type": "code",
   "execution_count": 6,
   "metadata": {},
   "outputs": [
    {
     "data": {
      "text/plain": [
       "43"
      ]
     },
     "execution_count": 6,
     "metadata": {},
     "output_type": "execute_result"
    }
   ],
   "source": [
    "# 3rd party\n",
    "import numpy as np \n",
    "\n",
    "np.sum(nums)"
   ]
  },
  {
   "cell_type": "code",
   "execution_count": 7,
   "metadata": {
    "slideshow": {
     "slide_type": "fragment"
    }
   },
   "outputs": [
    {
     "data": {
      "text/plain": [
       "43"
      ]
     },
     "execution_count": 7,
     "metadata": {},
     "output_type": "execute_result"
    }
   ],
   "source": [
    "# Procedural with for loop\n",
    "def sum_for(nums):\n",
    "    total = 0\n",
    "    for n in nums:\n",
    "        total += n\n",
    "    return total\n",
    "\n",
    "sum_for(nums)"
   ]
  },
  {
   "cell_type": "code",
   "execution_count": 8,
   "metadata": {},
   "outputs": [
    {
     "data": {
      "text/plain": [
       "43"
      ]
     },
     "execution_count": 8,
     "metadata": {},
     "output_type": "execute_result"
    }
   ],
   "source": [
    "# Procedural with while loop\n",
    "def sum_while(nums):\n",
    "    nums_copy = nums[:]\n",
    "    total = 0\n",
    "    while len(nums_copy):\n",
    "        total += nums_copy.pop()\n",
    "    return total\n",
    "\n",
    "sum_while(nums)"
   ]
  },
  {
   "cell_type": "code",
   "execution_count": 9,
   "metadata": {
    "slideshow": {
     "slide_type": "slide"
    }
   },
   "outputs": [
    {
     "data": {
      "text/plain": [
       "43"
      ]
     },
     "execution_count": 9,
     "metadata": {},
     "output_type": "execute_result"
    }
   ],
   "source": [
    "# Recursive\n",
    "def sum_recursive(nums):\n",
    "    if len(nums) == 1:\n",
    "        return nums[0]\n",
    "    else:\n",
    "        return nums[0] + sum_recursive(nums[1:]) \n",
    "\n",
    "sum_recursive(nums)"
   ]
  },
  {
   "cell_type": "code",
   "execution_count": 10,
   "metadata": {},
   "outputs": [
    {
     "data": {
      "text/plain": [
       "43"
      ]
     },
     "execution_count": 10,
     "metadata": {},
     "output_type": "execute_result"
    }
   ],
   "source": [
    "# Functional\n",
    "from functools import reduce\n",
    "from operator import add\n",
    "\n",
    "def sum_functional(nums):\n",
    "    return reduce(add, nums)\n",
    "\n",
    "sum_functional(nums)"
   ]
  },
  {
   "cell_type": "code",
   "execution_count": 11,
   "metadata": {
    "slideshow": {
     "slide_type": "slide"
    }
   },
   "outputs": [],
   "source": [
    "# They are all semantically correct for integers\n",
    "nums = [-1, 1, 42, 1]\n",
    "assert (43 == \n",
    "        sum(nums) == \n",
    "        np.sum(nums) == \n",
    "        sum_for(nums) ==\n",
    "        sum_while(nums) ==  \n",
    "        sum_recursive(nums) ==\n",
    "        sum_functional(nums)\n",
    "        )"
   ]
  },
  {
   "cell_type": "markdown",
   "metadata": {
    "slideshow": {
     "slide_type": "slide"
    }
   },
   "source": [
    "Benchmarking different paradigms\n",
    "-------\n",
    "\n",
    "How do they stack up for speed?\n",
    "\n",
    "Take a moment to rank them. Write down your predictions."
   ]
  },
  {
   "cell_type": "code",
   "execution_count": 12,
   "metadata": {
    "slideshow": {
     "slide_type": "fragment"
    }
   },
   "outputs": [],
   "source": [
    "from random import random\n",
    "\n",
    "nums = [random() for _ in range(1_000_000)]"
   ]
  },
  {
   "cell_type": "code",
   "execution_count": 13,
   "metadata": {
    "slideshow": {
     "slide_type": "fragment"
    }
   },
   "outputs": [
    {
     "name": "stdout",
     "output_type": "stream",
     "text": [
      "5.07 ms ± 448 µs per loop (mean ± std. dev. of 7 runs, 10 loops each)\n"
     ]
    }
   ],
   "source": [
    "%timeit -n 10 sum(nums)"
   ]
  },
  {
   "cell_type": "code",
   "execution_count": 14,
   "metadata": {
    "slideshow": {
     "slide_type": "fragment"
    }
   },
   "outputs": [
    {
     "name": "stdout",
     "output_type": "stream",
     "text": [
      "41.5 ms ± 1.68 ms per loop (mean ± std. dev. of 7 runs, 10 loops each)\n"
     ]
    }
   ],
   "source": [
    "%timeit -n 10 np.sum(nums)"
   ]
  },
  {
   "cell_type": "code",
   "execution_count": 15,
   "metadata": {},
   "outputs": [],
   "source": [
    "# When using numpy use numpy types\n",
    "nums_array = np.array(nums)"
   ]
  },
  {
   "cell_type": "code",
   "execution_count": 16,
   "metadata": {},
   "outputs": [
    {
     "name": "stdout",
     "output_type": "stream",
     "text": [
      "753 µs ± 227 µs per loop (mean ± std. dev. of 7 runs, 10 loops each)\n"
     ]
    }
   ],
   "source": [
    "%timeit -n 10 np.sum(nums_array)\n"
   ]
  },
  {
   "cell_type": "code",
   "execution_count": 17,
   "metadata": {
    "slideshow": {
     "slide_type": "fragment"
    }
   },
   "outputs": [
    {
     "name": "stdout",
     "output_type": "stream",
     "text": [
      "37.4 ms ± 2.22 ms per loop (mean ± std. dev. of 7 runs, 10 loops each)\n"
     ]
    }
   ],
   "source": [
    "%timeit -n 10 sum_for(nums)"
   ]
  },
  {
   "cell_type": "code",
   "execution_count": 18,
   "metadata": {},
   "outputs": [
    {
     "name": "stdout",
     "output_type": "stream",
     "text": [
      "171 ms ± 7.68 ms per loop (mean ± std. dev. of 7 runs, 10 loops each)\n"
     ]
    }
   ],
   "source": [
    "%timeit -n 10 sum_while(nums)"
   ]
  },
  {
   "cell_type": "code",
   "execution_count": 19,
   "metadata": {
    "slideshow": {
     "slide_type": "fragment"
    }
   },
   "outputs": [
    {
     "name": "stdout",
     "output_type": "stream",
     "text": [
      "37.6 ms ± 1.35 ms per loop (mean ± std. dev. of 7 runs, 10 loops each)\n"
     ]
    }
   ],
   "source": [
    "%timeit -n 10 sum_functional(nums) "
   ]
  },
  {
   "cell_type": "code",
   "execution_count": 20,
   "metadata": {
    "slideshow": {
     "slide_type": "fragment"
    }
   },
   "outputs": [],
   "source": [
    "# This will result in an error because of the way Python handles recursion\n",
    "# %timeit -n 10 sum_recursive(nums[:10_000])"
   ]
  },
  {
   "cell_type": "markdown",
   "metadata": {},
   "source": [
    "Benchmarking vs Big O\n",
    "-----\n",
    "\n",
    "Big 0 is short-hand for complexity, typically runtime complexity. \n",
    "\n",
    "Big 0 is about the theoretic performance of algorithms.\n",
    "\n",
    "Often times when writing code you care more about actual performance, thus benchmarking is more useful.\n",
    "\n",
    "Benchmarking will give empirical results based on running code with actual data.\n",
    "\n",
    "Computer Scientist prefer Big O. Software engineers prefer benchmarking."
   ]
  },
  {
   "cell_type": "markdown",
   "metadata": {},
   "source": [
    "What is factorial?\n",
    "-----\n",
    "\n",
    "Products of every whole number from 1 to n.\n",
    "\n",
    "If n is 1, then 1! is         1 = 1.  \n",
    "If n is 2, then 2! is     2 x 1 = 2.  \n",
    "If n is 3, then 3! is 3 x 2 x 1 = 6.   \n",
    "If n is 4, then 4! is 4 x 3 x 2 x 1 = 24.     \n",
    "If n is 5, then 5! is 5 x 4 x 3 x 2 x 1 = 120."
   ]
  },
  {
   "cell_type": "markdown",
   "metadata": {},
   "source": [
    "What are different programming ways to a calculate factorial?\n",
    "-----\n",
    "\n",
    "- Built-in\n",
    "- Procedural\n",
    "    - for\n",
    "    - while\n",
    "- Recursive\n",
    "- Functional"
   ]
  },
  {
   "cell_type": "markdown",
   "metadata": {},
   "source": [
    "Student Activity: Factorial Function Many Ways\n",
    "------\n",
    "\n",
    "Write a factorial function the following ways:\n",
    "\n",
    "1. Built-in\n",
    "1. 3rd party functions\n",
    "1. Procedural\n",
    "    1. for\n",
    "    1. while\n",
    "1. Recursive\n",
    "1. Functional"
   ]
  },
  {
   "cell_type": "code",
   "execution_count": 21,
   "metadata": {},
   "outputs": [],
   "source": [
    "reset -fs"
   ]
  },
  {
   "cell_type": "code",
   "execution_count": 22,
   "metadata": {},
   "outputs": [
    {
     "data": {
      "text/plain": [
       "120"
      ]
     },
     "execution_count": 22,
     "metadata": {},
     "output_type": "execute_result"
    }
   ],
   "source": [
    "# Built-in\n",
    "from math import factorial\n",
    "\n",
    "factorial(5)"
   ]
  },
  {
   "cell_type": "code",
   "execution_count": 23,
   "metadata": {},
   "outputs": [
    {
     "name": "stdout",
     "output_type": "stream",
     "text": [
      "Requirement already satisfied: scipy in /Users/brian/anaconda3/lib/python3.7/site-packages (1.2.1)\r\n"
     ]
    }
   ],
   "source": [
    "# Scipy which is short for scientific Python\n",
    "! pip install scipy"
   ]
  },
  {
   "cell_type": "code",
   "execution_count": 24,
   "metadata": {},
   "outputs": [
    {
     "data": {
      "text/plain": [
       "array(120.)"
      ]
     },
     "execution_count": 24,
     "metadata": {},
     "output_type": "execute_result"
    }
   ],
   "source": [
    "# 3rd party functions\n",
    "\n",
    "from scipy.special import factorial as scipy_factorial\n",
    "\n",
    "scipy_factorial(5)"
   ]
  },
  {
   "cell_type": "code",
   "execution_count": 25,
   "metadata": {},
   "outputs": [
    {
     "data": {
      "text/plain": [
       "120"
      ]
     },
     "execution_count": 25,
     "metadata": {},
     "output_type": "execute_result"
    }
   ],
   "source": [
    "# Procedural with for loop\n",
    "def factorial_for(n):\n",
    "    answer = 1\n",
    "    for n_iter in range(2, n+1): # Don't need to start at 1 because we initialized it at 1 already \n",
    "        answer *= n_iter\n",
    "    return answer\n",
    "\n",
    "factorial_for(5)"
   ]
  },
  {
   "cell_type": "code",
   "execution_count": 26,
   "metadata": {},
   "outputs": [
    {
     "data": {
      "text/plain": [
       "120"
      ]
     },
     "execution_count": 26,
     "metadata": {},
     "output_type": "execute_result"
    }
   ],
   "source": [
    "# Procedural with while loop\n",
    "def factorial_while(n):\n",
    "    answer = 1\n",
    "    while n > 0:\n",
    "        answer *= n   \n",
    "        n -= 1                         \n",
    "    return answer \n",
    "\n",
    "factorial_while(5)"
   ]
  },
  {
   "cell_type": "code",
   "execution_count": 27,
   "metadata": {},
   "outputs": [
    {
     "data": {
      "text/plain": [
       "120"
      ]
     },
     "execution_count": 27,
     "metadata": {},
     "output_type": "execute_result"
    }
   ],
   "source": [
    "# Recursive\n",
    "def factorial_recurse(n):\n",
    "    if n == 0:\n",
    "        return 1\n",
    "    else:\n",
    "        return  n * factorial_recurse(n - 1)\n",
    "    \n",
    "factorial_recurse(5)"
   ]
  },
  {
   "cell_type": "code",
   "execution_count": 28,
   "metadata": {},
   "outputs": [
    {
     "data": {
      "text/plain": [
       "120"
      ]
     },
     "execution_count": 28,
     "metadata": {},
     "output_type": "execute_result"
    }
   ],
   "source": [
    "# Functional\n",
    "from functools import reduce\n",
    "from operator import mul\n",
    "\n",
    "def factorial_functional(n):\n",
    "    return reduce(mul, range(2, n+1))\n",
    "\n",
    "factorial_functional(5)"
   ]
  },
  {
   "cell_type": "code",
   "execution_count": 29,
   "metadata": {},
   "outputs": [],
   "source": [
    "# All implementations are all semantically correct\n",
    "n = 5\n",
    "\n",
    "assert (120 == \n",
    "        scipy_factorial(n) ==\n",
    "        factorial(n) == \n",
    "        factorial_for(n) == \n",
    "        factorial_while(n) == \n",
    "        factorial_recurse(n) ==\n",
    "        factorial_functional(n)\n",
    "        )\n",
    "        "
   ]
  },
  {
   "cell_type": "markdown",
   "metadata": {},
   "source": [
    "[Source](https://blog.newrelic.com/engineering/python-programming-styles/)"
   ]
  },
  {
   "cell_type": "markdown",
   "metadata": {},
   "source": [
    "Student Poll: Which method is your favorite? Why?\n",
    "    -----"
   ]
  },
  {
   "cell_type": "markdown",
   "metadata": {},
   "source": [
    "Try not to mix-match styles\n",
    "------\n",
    "\n",
    "You should balance the need to use the best tool / technique for a job with the need to be consistent.\n",
    "\n",
    "It is better to optimize code for readability if it does not dramatically impact performance.\n",
    "\n",
    "So since to the same style within a function, class, or library."
   ]
  },
  {
   "cell_type": "markdown",
   "metadata": {
    "slideshow": {
     "slide_type": "slide"
    }
   },
   "source": [
    "\n",
    "<center><img src=\"images/Bruce-Lee.png\" width=\"75%\"/></center>\n",
    "\n",
    "You should practice the fundamentals over-and-over then advanced concepts will be easier to learn in the future."
   ]
  },
  {
   "cell_type": "markdown",
   "metadata": {
    "slideshow": {
     "slide_type": "slide"
    }
   },
   "source": [
    "Summary of methods\n",
    "-----\n",
    "\n",
    "- Built-ins & established 3rd party packages are the best default.\n",
    "- Procedural / Imperative is straightforward to reason about.\n",
    "- Recursive can be elegant but slow.\n",
    "- Functional can be fast but might not be hard to write and understand.\n",
    "\n",
    "\n",
    "Takeaways\n",
    "-----\n",
    "\n",
    "- You should be comfortable solving problems in multiple programming paradigms.\n",
    "- Pick the best paradigm for the problem and your team.\n"
   ]
  },
  {
   "cell_type": "markdown",
   "metadata": {
    "slideshow": {
     "slide_type": "slide"
    }
   },
   "source": [
    " "
   ]
  },
  {
   "cell_type": "markdown",
   "metadata": {
    "slideshow": {
     "slide_type": "slide"
    }
   },
   "source": [
    "Bonus Material\n",
    "------"
   ]
  },
  {
   "cell_type": "markdown",
   "metadata": {
    "slideshow": {
     "slide_type": "slide"
    }
   },
   "source": [
    "Object-oriented programming (OOP) can be considered to be paradigm\n",
    "------\n",
    "\n",
    "I think it more of a style - Classes are categories with nouns and verbs that you'll need many specific examples.\n",
    "\n",
    "But you can apply OOP as a paradigm to solve problems.\n",
    "\n",
    "The dangers are:\n",
    "\n",
    "- OOP is often over-applied.\n",
    "- OOP encourages adding extra unneeded features."
   ]
  },
  {
   "cell_type": "markdown",
   "metadata": {
    "slideshow": {
     "slide_type": "slide"
    }
   },
   "source": [
    "There are many other computing paradigms\n",
    "-----\n",
    "\n",
    "- Declarative - for example, SQL\n",
    "- Data flow - for example, TensorFlow"
   ]
  },
  {
   "cell_type": "markdown",
   "metadata": {},
   "source": [
    "Zen of Python\n",
    "------\n",
    "\n",
    "The title of this tutorial is riff on the _Zen of Python_"
   ]
  },
  {
   "cell_type": "code",
   "execution_count": 30,
   "metadata": {},
   "outputs": [
    {
     "name": "stdout",
     "output_type": "stream",
     "text": [
      "The Zen of Python, by Tim Peters\n",
      "\n",
      "Beautiful is better than ugly.\n",
      "Explicit is better than implicit.\n",
      "Simple is better than complex.\n",
      "Complex is better than complicated.\n",
      "Flat is better than nested.\n",
      "Sparse is better than dense.\n",
      "Readability counts.\n",
      "Special cases aren't special enough to break the rules.\n",
      "Although practicality beats purity.\n",
      "Errors should never pass silently.\n",
      "Unless explicitly silenced.\n",
      "In the face of ambiguity, refuse the temptation to guess.\n",
      "There should be one-- and preferably only one --obvious way to do it.\n",
      "Although that way may not be obvious at first unless you're Dutch.\n",
      "Now is better than never.\n",
      "Although never is often better than *right* now.\n",
      "If the implementation is hard to explain, it's a bad idea.\n",
      "If the implementation is easy to explain, it may be a good idea.\n",
      "Namespaces are one honking great idea -- let's do more of those!\n"
     ]
    }
   ],
   "source": [
    "import this"
   ]
  },
  {
   "cell_type": "markdown",
   "metadata": {
    "slideshow": {
     "slide_type": "slide"
    }
   },
   "source": [
    " "
   ]
  }
 ],
 "metadata": {
  "kernelspec": {
   "display_name": "Python 3",
   "language": "python",
   "name": "python3"
  },
  "language_info": {
   "codemirror_mode": {
    "name": "ipython",
    "version": 3
   },
   "file_extension": ".py",
   "mimetype": "text/x-python",
   "name": "python",
   "nbconvert_exporter": "python",
   "pygments_lexer": "ipython3",
   "version": "3.7.3"
  },
  "toc": {
   "base_numbering": 1,
   "nav_menu": {},
   "number_sections": false,
   "sideBar": false,
   "skip_h1_title": false,
   "title_cell": "Table of Contents",
   "title_sidebar": "Contents",
   "toc_cell": true,
   "toc_position": {},
   "toc_section_display": true,
   "toc_window_display": false
  }
 },
 "nbformat": 4,
 "nbformat_minor": 2
}
