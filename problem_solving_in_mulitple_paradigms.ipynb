{
 "cells": [
  {
   "cell_type": "markdown",
   "metadata": {
    "toc": true
   },
   "source": [
    "<h1>Table of Contents<span class=\"tocSkip\"></span></h1>\n",
    "<div class=\"toc\"><ul class=\"toc-item\"><li><span><a href=\"#Who-am-I?\" data-toc-modified-id=\"Who-am-I?-1\">Who am I?</a></span></li><li><span><a href=\"#Learning-Outcomes\" data-toc-modified-id=\"Learning-Outcomes-2\">Learning Outcomes</a></span><ul class=\"toc-item\"><li><ul class=\"toc-item\"><li><span><a href=\"#By-the-end-of-this-session,-you-should-be-able-to:\" data-toc-modified-id=\"By-the-end-of-this-session,-you-should-be-able-to:-2.0.1\">By the end of this session, you should be able to:</a></span></li></ul></li></ul></li><li><span><a href=\"#What-is-a-programming-paradigm?\" data-toc-modified-id=\"What-is-a-programming-paradigm?-3\">What is a programming paradigm?</a></span></li><li><span><a href=\"#Python’s-flexibility-FTW\" data-toc-modified-id=\"Python’s-flexibility-FTW-4\">Python’s flexibility FTW</a></span></li><li><span><a href=\"#What-are-the-different-ways-to-sum-a-list-of-numbers-in-Python?\" data-toc-modified-id=\"What-are-the-different-ways-to-sum-a-list-of-numbers-in-Python?-5\">What are the different ways to sum a list of numbers in Python?</a></span></li><li><span><a href=\"#Student-Activity:-Sum-a-list-Function-Many-Ways\" data-toc-modified-id=\"Student-Activity:-Sum-a-list-Function-Many-Ways-6\">Student Activity: Sum-a-list Function Many Ways</a></span></li><li><span><a href=\"#Benchmarking-different-paradigms\" data-toc-modified-id=\"Benchmarking-different-paradigms-7\">Benchmarking different paradigms</a></span></li><li><span><a href=\"#Benchmarking-vs-Big-O\" data-toc-modified-id=\"Benchmarking-vs-Big-O-8\">Benchmarking vs Big O</a></span></li><li><span><a href=\"#What-is-factorial?\" data-toc-modified-id=\"What-is-factorial?-9\">What is factorial?</a></span></li><li><span><a href=\"#What-are-different-programming-ways-to-a-calculate-factorial?\" data-toc-modified-id=\"What-are-different-programming-ways-to-a-calculate-factorial?-10\">What are different programming ways to a calculate factorial?</a></span></li><li><span><a href=\"#Student-Activity:-Factorial-Function-Many-Ways\" data-toc-modified-id=\"Student-Activity:-Factorial-Function-Many-Ways-11\">Student Activity: Factorial Function Many Ways</a></span></li><li><span><a href=\"#Try-not-to-mix-match-styles\" data-toc-modified-id=\"Try-not-to-mix-match-styles-12\">Try not to mix-match styles</a></span></li><li><span><a href=\"#Object-oriented-can-be-considered-to-be-paradigm\" data-toc-modified-id=\"Object-oriented-can-be-considered-to-be-paradigm-13\">Object oriented can be considered to be paradigm</a></span></li><li><span><a href=\"#Takeaways\" data-toc-modified-id=\"Takeaways-14\">Takeaways</a></span></li><li><span><a href=\"#Summary---For-each-paradigm\" data-toc-modified-id=\"Summary---For-each-paradigm-15\">Summary - For each paradigm</a></span></li><li><span><a href=\"#Bonus-Material\" data-toc-modified-id=\"Bonus-Material-16\">Bonus Material</a></span></li><li><span><a href=\"#Other-paradigms\" data-toc-modified-id=\"Other-paradigms-17\">Other paradigms</a></span></li></ul></div>"
   ]
  },
  {
   "cell_type": "markdown",
   "metadata": {},
   "source": [
    "Who am I?\n",
    "------\n",
    "\n",
    "My name is Brian Spiering.\n",
    "\n",
    "I'm a professor of Data Science at [University of San Francisco's Masters in Data Science](https://www.usfca.edu/arts-sciences/graduate-programs/data-science) program."
   ]
  },
  {
   "cell_type": "markdown",
   "metadata": {},
   "source": [
    "<center><img src=\"images/polya_quote.jpg\" width=\"75%\"/></center>"
   ]
  },
  {
   "cell_type": "markdown",
   "metadata": {},
   "source": [
    "> It is better to solve one problem five different ways, than to solve five problems one way.   \n",
    "> — George Polya"
   ]
  },
  {
   "cell_type": "markdown",
   "metadata": {},
   "source": [
    "<center><h2>Learning Outcomes</h2></center>\n",
    "\n",
    "#### By the end of this session, you should be able to:\n",
    "\n",
    "- List the pros and cons of common programming paradigms.\n",
    "- In each of the paradigms, write code to:\n",
    "    - Sum a list of numbers\n",
    "    - Calculate factorial"
   ]
  },
  {
   "cell_type": "markdown",
   "metadata": {},
   "source": [
    "What is a programming paradigm?\n",
    "------\n",
    "\n",
    "A style of programming, the way the code is organized. \n",
    "\n",
    "Patterns of thought and action.\n",
    "\n",
    "[Source](https://en.wikipedia.org/wiki/Programming_paradigm)"
   ]
  },
  {
   "cell_type": "markdown",
   "metadata": {},
   "source": [
    "Python’s flexibility FTW\n",
    "-----\n",
    "\n",
    "Flexibility is one of Python's many advantages. \n",
    "\n",
    "Many different programming paradigms can be used within Python."
   ]
  },
  {
   "cell_type": "markdown",
   "metadata": {
    "slideshow": {
     "slide_type": "slide"
    }
   },
   "source": [
    "What are the different ways to sum a list of numbers in Python?\n",
    "------\n"
   ]
  },
  {
   "cell_type": "markdown",
   "metadata": {},
   "source": [
    "Student Activity: Sum-a-list Function Many Ways\n",
    "-----\n",
    "\n",
    "Write a function that sums a list in as many ways as possible:"
   ]
  },
  {
   "cell_type": "code",
   "execution_count": 8,
   "metadata": {},
   "outputs": [],
   "source": [
    "nums = [-1, 1, 42, 1] #=> 43"
   ]
  },
  {
   "cell_type": "code",
   "execution_count": 9,
   "metadata": {},
   "outputs": [
    {
     "data": {
      "text/plain": [
       "43"
      ]
     },
     "execution_count": 9,
     "metadata": {},
     "output_type": "execute_result"
    }
   ],
   "source": []
  },
  {
   "cell_type": "markdown",
   "metadata": {
    "slideshow": {
     "slide_type": "slide"
    }
   },
   "source": [
    "Benchmarking different paradigms\n",
    "-------\n",
    "\n",
    "How do they stack up for speed?\n",
    "\n",
    "Take a moment to rank them. Write down your predictions."
   ]
  },
  {
   "cell_type": "code",
   "execution_count": 16,
   "metadata": {
    "slideshow": {
     "slide_type": "fragment"
    }
   },
   "outputs": [],
   "source": [
    "from random import random\n",
    "\n",
    "nums = [random() for _ in range(1_000_000)]"
   ]
  },
  {
   "cell_type": "code",
   "execution_count": 17,
   "metadata": {
    "slideshow": {
     "slide_type": "fragment"
    }
   },
   "outputs": [
    {
     "name": "stdout",
     "output_type": "stream",
     "text": [
      "8.89 ms ± 2.89 ms per loop (mean ± std. dev. of 7 runs, 10 loops each)\n"
     ]
    }
   ],
   "source": [
    "%timeit -n 10 "
   ]
  },
  {
   "cell_type": "markdown",
   "metadata": {},
   "source": [
    "Benchmarking vs Big O\n",
    "-----\n",
    "\n",
    "Big 0 is short-hand for complexity, typically runtime complexity. \n",
    "\n",
    "Big 0 is about the theoretic performance of algorithms.\n",
    "\n",
    "Often times when writing code you care more about actual performance, thus benchmarking is more useful.\n",
    "\n",
    "Benchmarking will give empirical results based on running code with actual data.\n",
    "\n",
    "Computer Scientist prefer Big O. Software engineers prefer benchmarking."
   ]
  },
  {
   "cell_type": "markdown",
   "metadata": {},
   "source": [
    "What is factorial?\n",
    "-----\n",
    "\n"
   ]
  },
  {
   "cell_type": "markdown",
   "metadata": {},
   "source": [
    "What are different programming ways to a calculate factorial?\n",
    "-----\n"
   ]
  },
  {
   "cell_type": "markdown",
   "metadata": {},
   "source": [
    "Student Activity: Factorial Function Many Ways\n",
    "------\n",
    "\n",
    "Write a factorial function in as many ways as possible:\n",
    "\n",
    "\n"
   ]
  },
  {
   "cell_type": "markdown",
   "metadata": {},
   "source": [
    "Try not to mix-match styles\n",
    "------\n",
    "\n",
    "You should balance the need to use the best tool / technique for a job with the need to be consistent.\n",
    "\n",
    "It is better to optimize code for readability if it does not dramatically impact performance.\n",
    "\n",
    "So since to the same style within a function, class, or library."
   ]
  },
  {
   "cell_type": "markdown",
   "metadata": {
    "slideshow": {
     "slide_type": "slide"
    }
   },
   "source": [
    "Object oriented can be considered to be paradigm\n",
    "------\n",
    "\n",
    "I think it more of a style - Classes are categories with nouns and verbs that you'll need many specific examples.\n",
    "\n",
    "But you can apply it a paradigm to solve problems.\n",
    "\n",
    "The dangers are:\n",
    "\n",
    "- Often it is over-applied\n",
    "- Often encourages adding extra unneeded features"
   ]
  },
  {
   "cell_type": "markdown",
   "metadata": {
    "slideshow": {
     "slide_type": "slide"
    }
   },
   "source": [
    "\n",
    "<center><img src=\"images/Bruce-Lee.png\" width=\"75%\"/></center>\n",
    "\n",
    "You should practice the fundamentals over-and-over then advanced concepts will be easier to learn in the future."
   ]
  },
  {
   "cell_type": "markdown",
   "metadata": {
    "slideshow": {
     "slide_type": "slide"
    }
   },
   "source": [
    "Takeaways\n",
    "-----\n",
    "\n",
    "- "
   ]
  },
  {
   "cell_type": "markdown",
   "metadata": {
    "slideshow": {
     "slide_type": "slide"
    }
   },
   "source": [
    " "
   ]
  },
  {
   "cell_type": "markdown",
   "metadata": {
    "slideshow": {
     "slide_type": "slide"
    }
   },
   "source": [
    " "
   ]
  }
 ],
 "metadata": {
  "celltoolbar": "Slideshow",
  "kernelspec": {
   "display_name": "Python 3",
   "language": "python",
   "name": "python3"
  },
  "language_info": {
   "codemirror_mode": {
    "name": "ipython",
    "version": 3
   },
   "file_extension": ".py",
   "mimetype": "text/x-python",
   "name": "python",
   "nbconvert_exporter": "python",
   "pygments_lexer": "ipython3",
   "version": "3.7.6"
  },
  "toc": {
   "base_numbering": 1,
   "nav_menu": {},
   "number_sections": false,
   "sideBar": false,
   "skip_h1_title": false,
   "title_cell": "Table of Contents",
   "title_sidebar": "Contents",
   "toc_cell": true,
   "toc_position": {},
   "toc_section_display": true,
   "toc_window_display": false
  }
 },
 "nbformat": 4,
 "nbformat_minor": 2
}
